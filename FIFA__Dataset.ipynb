{
  "cells": [
    {
      "attachments": {},
      "cell_type": "markdown",
      "metadata": {
        "id": "Rgl5a9fCCOFp"
      },
      "source": [
        "# Player overall and market value prediction using FIFA 19 dataset"
      ]
    },
    {
      "cell_type": "markdown",
      "metadata": {
        "id": "CI5JpM8WCOFw"
      },
      "source": [
        "#### Section 1 - Import statements \n"
      ]
    },
    {
      "cell_type": "code",
      "execution_count": null,
      "metadata": {
        "id": "RT5JQak5COFy",
        "outputId": "34bde5e5-7ec0-4df8-aeb4-0e1e721f326a"
      },
      "outputs": [
        {
          "name": "stderr",
          "output_type": "stream",
          "text": [
            "C:\\Users\\manda\\Anaconda3\\lib\\site-packages\\h5py\\__init__.py:36: FutureWarning: Conversion of the second argument of issubdtype from `float` to `np.floating` is deprecated. In future, it will be treated as `np.float64 == np.dtype(float).type`.\n",
            "  from ._conv import register_converters as _register_converters\n",
            "Using TensorFlow backend.\n"
          ]
        }
      ],
      "source": [
        "import json\n",
        "import os\n",
        "import csv\n",
        "import collections\n",
        "from sklearn.pipeline import Pipeline\n",
        "\n",
        "import numpy as np\n",
        "import pandas as pd\n",
        "import keras\n",
        "import tensorflow as tf\n",
        "import shutil\n",
        "import time\n",
        "from scipy.stats import zscore\n",
        "from scipy import stats\n",
        "from sklearn import preprocessing\n",
        "from sklearn import utils\n",
        "import sklearn.feature_extraction.text as sk_text\n",
        "from sklearn.model_selection import train_test_split\n",
        "import seaborn as sns\n",
        "import matplotlib.pyplot as plt\n",
        "from sklearn.linear_model import LinearRegression, Ridge, RidgeCV, Lasso, ElasticNet\n",
        "from sklearn.ensemble import GradientBoostingRegressor\n",
        "\n",
        "import io\n",
        "import requests\n",
        "from sklearn import metrics\n",
        "from keras import optimizers\n",
        "from keras.optimizers import Adam, sgd\n",
        "from keras.models import Sequential\n",
        "from keras.layers import Conv2D, MaxPooling2D\n",
        "from keras.layers.core import Dense, Activation, Dropout, Flatten\n",
        "from keras.callbacks import EarlyStopping, ModelCheckpoint\n",
        "import xgboost as xgb\n",
        "import lightgbm as lgb\n",
        "\n",
        "from sklearn.naive_bayes import MultinomialNB\n",
        "from sklearn.neighbors import KNeighborsClassifier\n",
        "from sklearn.linear_model import LogisticRegression\n",
        "from sklearn import svm\n",
        "from sklearn.ensemble import RandomForestClassifier\n",
        "from sklearn.ensemble import RandomForestRegressor\n",
        "from sklearn.metrics import confusion_matrix, classification_report, r2_score, roc_curve, auc"
      ]
    },
    {
      "cell_type": "code",
      "execution_count": null,
      "metadata": {
        "id": "m2X1QEDICOF1"
      },
      "outputs": [],
      "source": [
        "# Encode text values to dummy variables(i.e. [1,0,0],[0,1,0],[0,0,1] for red,green,blue)\n",
        "def encode_text_dummy(df, name):\n",
        "    dummies = pd.get_dummies(df[name])\n",
        "    for x in dummies.columns:\n",
        "        dummy_name = \"{}-{}\".format(name, x)\n",
        "        df[dummy_name] = dummies[x]\n",
        "    df.drop(name, axis=1, inplace=True)\n",
        "\n",
        "\n",
        "# Encode text values to indexes(i.e. [1],[2],[3] for red,green,blue).\n",
        "def encode_text_index(df, name):\n",
        "    le = preprocessing.LabelEncoder()\n",
        "    df[name] = le.fit_transform(df[name])\n",
        "    return le.classes_\n",
        "\n",
        "\n",
        "# Encode a numeric column as zscores\n",
        "def encode_numeric_zscore(df, name, mean=None, sd=None):\n",
        "    if mean is None:\n",
        "        mean = df[name].mean()\n",
        "\n",
        "    if sd is None:\n",
        "        sd = df[name].std()\n",
        "\n",
        "    df[name] = (df[name] - mean) / sd\n",
        "\n",
        "\n",
        "# Convert all missing values in the specified column to the median\n",
        "def missing_median(df, name):\n",
        "    med = df[name].median()\n",
        "    df[name] = df[name].fillna(med)\n",
        "\n",
        "\n",
        "# Convert all missing values in the specified column to the default\n",
        "def missing_default(df, name, default_value):\n",
        "    df[name] = df[name].fillna(default_value)\n",
        "\n",
        "\n",
        "# Convert a Pandas dataframe to the x,y inputs that TensorFlow needs\n",
        "def to_xy(df, target):\n",
        "    result = []\n",
        "    for x in df.columns:\n",
        "        if x != target:\n",
        "            result.append(x)\n",
        "    # find out the type of the target column. \n",
        "    target_type = df[target].dtypes\n",
        "    target_type = target_type[0] if isinstance(target_type, collections.Sequence) else target_type\n",
        "    # Encode to int for classification, float otherwise. TensorFlow likes 32 bits.\n",
        "    if target_type in (np.int64, np.int32, np.object):\n",
        "        # Classification\n",
        "        dummies = pd.get_dummies(df[target])\n",
        "        return df[result].values.astype(np.float32), dummies.values.astype(np.float32)\n",
        "    else:\n",
        "        # Regression\n",
        "        return df[result].values.astype(np.float32), df[target].values.astype(np.float32)\n",
        "\n",
        "# Nicely formatted time string\n",
        "def hms_string(sec_elapsed):\n",
        "    h = int(sec_elapsed / (60 * 60))\n",
        "    m = int((sec_elapsed % (60 * 60)) / 60)\n",
        "    s = sec_elapsed % 60\n",
        "    return \"{}:{:>02}:{:>05.2f}\".format(h, m, s)\n",
        "\n",
        "\n",
        "# Regression chart.\n",
        "def chart_regression(pred,y,sort=True):\n",
        "    t = pd.DataFrame({'pred' : pred, 'y' : y.flatten()})\n",
        "    if sort:\n",
        "        t.sort_values(by=['y'],inplace=True)\n",
        "    a = plt.plot(t['y'].tolist(),label='expected')\n",
        "    b = plt.plot(t['pred'].tolist(),label='prediction')\n",
        "    plt.ylabel('output')\n",
        "    plt.legend()\n",
        "    plt.show()\n",
        "\n",
        "# Remove all rows where the specified column is +/- sd standard deviations\n",
        "def remove_outliers(df, name, sd):\n",
        "    drop_rows = df.index[(np.abs(df[name] - df[name].mean()) >= (sd * df[name].std()))]\n",
        "    df.drop(drop_rows, axis=0, inplace=True)\n",
        "\n",
        "\n",
        "# Encode a column to a range between normalized_low and normalized_high.\n",
        "def encode_numeric_range(df, name, normalized_low=0, normalized_high=1,\n",
        "                         data_low=None, data_high=None):\n",
        "    if data_low is None:\n",
        "        data_low = min(df[name])\n",
        "        data_high = max(df[name])\n",
        "\n",
        "    df[name] = ((df[name] - data_low) / (data_high - data_low)) \\\n",
        "               * (normalized_high - normalized_low) + normalized_low\n"
      ]
    },
    {
      "cell_type": "code",
      "execution_count": null,
      "metadata": {
        "id": "59vpfBS3COF4"
      },
      "outputs": [],
      "source": [
        "# Plot a confusion matrix.\n",
        "# cm is the confusion matrix, names are the names of the classes.\n",
        "def plot_confusion_matrix(cm, names, title='Confusion matrix', cmap=plt.cm.Blues):\n",
        "    plt.imshow(cm, interpolation='nearest', cmap=cmap)\n",
        "    plt.title(title)\n",
        "    plt.colorbar()\n",
        "    tick_marks = np.arange(len(names))\n",
        "    plt.xticks(tick_marks, names, rotation=45)\n",
        "    plt.yticks(tick_marks, names)\n",
        "    plt.tight_layout()\n",
        "    plt.ylabel('True label')\n",
        "    plt.xlabel('Predicted label')\n",
        "    \n",
        "\n",
        "# Plot an ROC. pred - the predictions, y - the expected output.\n",
        "def plot_roc(pred,y):\n",
        "    fpr, tpr, thresholds = roc_curve(y, pred)\n",
        "    roc_auc = auc(fpr, tpr)\n",
        "\n",
        "    plt.figure()\n",
        "    plt.plot(fpr, tpr, label='ROC curve (area = %0.2f)' % roc_auc)\n",
        "    plt.plot([0, 1], [0, 1], 'k--')\n",
        "    plt.xlim([0.0, 1.0])\n",
        "    plt.ylim([0.0, 1.05])\n",
        "    plt.xlabel('False Positive Rate')\n",
        "    plt.ylabel('True Positive Rate')\n",
        "    plt.title('Receiver Operating Characteristic (ROC)')\n",
        "    plt.legend(loc=\"lower right\")\n",
        "    plt.show()"
      ]
    },
    {
      "cell_type": "markdown",
      "metadata": {
        "id": "Vtmrfu__COF5"
      },
      "source": [
        "#### Section 3 - Data read and pre-processing"
      ]
    },
    {
      "cell_type": "code",
      "execution_count": null,
      "metadata": {
        "id": "gbX7bKgLCOF5"
      },
      "outputs": [],
      "source": [
        "df1 =pd.read_csv('./data1.csv')\n",
        "df = df1[~df1[\"Value\"].str.contains('K')]\n",
        "df = df[0:11000].copy()\n"
      ]
    },
    {
      "cell_type": "code",
      "execution_count": null,
      "metadata": {
        "id": "qko0cwCMCOF6",
        "outputId": "c6e2d151-86c0-4b50-b12e-6bcb1d065c77"
      },
      "outputs": [
        {
          "data": {
            "text/html": [
              "<div>\n",
              "<style scoped>\n",
              "    .dataframe tbody tr th:only-of-type {\n",
              "        vertical-align: middle;\n",
              "    }\n",
              "\n",
              "    .dataframe tbody tr th {\n",
              "        vertical-align: top;\n",
              "    }\n",
              "\n",
              "    .dataframe thead th {\n",
              "        text-align: right;\n",
              "    }\n",
              "</style>\n",
              "<table border=\"1\" class=\"dataframe\">\n",
              "  <thead>\n",
              "    <tr style=\"text-align: right;\">\n",
              "      <th></th>\n",
              "      <th>ID</th>\n",
              "      <th>Name</th>\n",
              "      <th>Age</th>\n",
              "      <th>Nationality</th>\n",
              "      <th>Overall</th>\n",
              "      <th>Potential</th>\n",
              "      <th>Club</th>\n",
              "      <th>Value</th>\n",
              "      <th>Wage</th>\n",
              "      <th>Special</th>\n",
              "      <th>...</th>\n",
              "      <th>Composure</th>\n",
              "      <th>Marking</th>\n",
              "      <th>StandingTackle</th>\n",
              "      <th>SlidingTackle</th>\n",
              "      <th>GKDiving</th>\n",
              "      <th>GKHandling</th>\n",
              "      <th>GKKicking</th>\n",
              "      <th>GKPositioning</th>\n",
              "      <th>GKReflexes</th>\n",
              "      <th>Release Clause</th>\n",
              "    </tr>\n",
              "  </thead>\n",
              "  <tbody>\n",
              "    <tr>\n",
              "      <th>0</th>\n",
              "      <td>158023</td>\n",
              "      <td>L. Messi</td>\n",
              "      <td>31</td>\n",
              "      <td>Argentina</td>\n",
              "      <td>94</td>\n",
              "      <td>94</td>\n",
              "      <td>FC Barcelona</td>\n",
              "      <td>€110.5M</td>\n",
              "      <td>€565K</td>\n",
              "      <td>2202</td>\n",
              "      <td>...</td>\n",
              "      <td>96.0</td>\n",
              "      <td>33.0</td>\n",
              "      <td>28.0</td>\n",
              "      <td>26.0</td>\n",
              "      <td>6.0</td>\n",
              "      <td>11.0</td>\n",
              "      <td>15.0</td>\n",
              "      <td>14.0</td>\n",
              "      <td>8.0</td>\n",
              "      <td>€226.5M</td>\n",
              "    </tr>\n",
              "    <tr>\n",
              "      <th>1</th>\n",
              "      <td>20801</td>\n",
              "      <td>Cristiano Ronaldo</td>\n",
              "      <td>33</td>\n",
              "      <td>Portugal</td>\n",
              "      <td>94</td>\n",
              "      <td>94</td>\n",
              "      <td>Juventus</td>\n",
              "      <td>€77M</td>\n",
              "      <td>€405K</td>\n",
              "      <td>2228</td>\n",
              "      <td>...</td>\n",
              "      <td>95.0</td>\n",
              "      <td>28.0</td>\n",
              "      <td>31.0</td>\n",
              "      <td>23.0</td>\n",
              "      <td>7.0</td>\n",
              "      <td>11.0</td>\n",
              "      <td>15.0</td>\n",
              "      <td>14.0</td>\n",
              "      <td>11.0</td>\n",
              "      <td>€127.1M</td>\n",
              "    </tr>\n",
              "    <tr>\n",
              "      <th>2</th>\n",
              "      <td>190871</td>\n",
              "      <td>Neymar Jr</td>\n",
              "      <td>26</td>\n",
              "      <td>Brazil</td>\n",
              "      <td>92</td>\n",
              "      <td>93</td>\n",
              "      <td>Paris Saint-Germain</td>\n",
              "      <td>€118.5M</td>\n",
              "      <td>€290K</td>\n",
              "      <td>2143</td>\n",
              "      <td>...</td>\n",
              "      <td>94.0</td>\n",
              "      <td>27.0</td>\n",
              "      <td>24.0</td>\n",
              "      <td>33.0</td>\n",
              "      <td>9.0</td>\n",
              "      <td>9.0</td>\n",
              "      <td>15.0</td>\n",
              "      <td>15.0</td>\n",
              "      <td>11.0</td>\n",
              "      <td>€228.1M</td>\n",
              "    </tr>\n",
              "    <tr>\n",
              "      <th>3</th>\n",
              "      <td>193080</td>\n",
              "      <td>De Gea</td>\n",
              "      <td>27</td>\n",
              "      <td>Spain</td>\n",
              "      <td>91</td>\n",
              "      <td>93</td>\n",
              "      <td>Manchester United</td>\n",
              "      <td>€72M</td>\n",
              "      <td>€260K</td>\n",
              "      <td>1471</td>\n",
              "      <td>...</td>\n",
              "      <td>68.0</td>\n",
              "      <td>15.0</td>\n",
              "      <td>21.0</td>\n",
              "      <td>13.0</td>\n",
              "      <td>90.0</td>\n",
              "      <td>85.0</td>\n",
              "      <td>87.0</td>\n",
              "      <td>88.0</td>\n",
              "      <td>94.0</td>\n",
              "      <td>€138.6M</td>\n",
              "    </tr>\n",
              "    <tr>\n",
              "      <th>4</th>\n",
              "      <td>192985</td>\n",
              "      <td>K. De Bruyne</td>\n",
              "      <td>27</td>\n",
              "      <td>Belgium</td>\n",
              "      <td>91</td>\n",
              "      <td>92</td>\n",
              "      <td>Manchester City</td>\n",
              "      <td>€102M</td>\n",
              "      <td>€355K</td>\n",
              "      <td>2281</td>\n",
              "      <td>...</td>\n",
              "      <td>88.0</td>\n",
              "      <td>68.0</td>\n",
              "      <td>58.0</td>\n",
              "      <td>51.0</td>\n",
              "      <td>15.0</td>\n",
              "      <td>13.0</td>\n",
              "      <td>5.0</td>\n",
              "      <td>10.0</td>\n",
              "      <td>13.0</td>\n",
              "      <td>€196.4M</td>\n",
              "    </tr>\n",
              "  </tbody>\n",
              "</table>\n",
              "<p>5 rows × 85 columns</p>\n",
              "</div>"
            ],
            "text/plain": [
              "       ID               Name  Age Nationality  Overall  Potential  \\\n",
              "0  158023           L. Messi   31   Argentina       94         94   \n",
              "1   20801  Cristiano Ronaldo   33    Portugal       94         94   \n",
              "2  190871          Neymar Jr   26      Brazil       92         93   \n",
              "3  193080             De Gea   27       Spain       91         93   \n",
              "4  192985       K. De Bruyne   27     Belgium       91         92   \n",
              "\n",
              "                  Club    Value   Wage  Special      ...       Composure  \\\n",
              "0         FC Barcelona  €110.5M  €565K     2202      ...            96.0   \n",
              "1             Juventus     €77M  €405K     2228      ...            95.0   \n",
              "2  Paris Saint-Germain  €118.5M  €290K     2143      ...            94.0   \n",
              "3    Manchester United     €72M  €260K     1471      ...            68.0   \n",
              "4      Manchester City    €102M  €355K     2281      ...            88.0   \n",
              "\n",
              "   Marking  StandingTackle  SlidingTackle GKDiving GKHandling GKKicking  \\\n",
              "0     33.0            28.0           26.0      6.0       11.0      15.0   \n",
              "1     28.0            31.0           23.0      7.0       11.0      15.0   \n",
              "2     27.0            24.0           33.0      9.0        9.0      15.0   \n",
              "3     15.0            21.0           13.0     90.0       85.0      87.0   \n",
              "4     68.0            58.0           51.0     15.0       13.0       5.0   \n",
              "\n",
              "  GKPositioning  GKReflexes Release Clause  \n",
              "0          14.0         8.0        €226.5M  \n",
              "1          14.0        11.0        €127.1M  \n",
              "2          15.0        11.0        €228.1M  \n",
              "3          88.0        94.0        €138.6M  \n",
              "4          10.0        13.0        €196.4M  \n",
              "\n",
              "[5 rows x 85 columns]"
            ]
          },
          "execution_count": 5,
          "metadata": {},
          "output_type": "execute_result"
        }
      ],
      "source": [
        "df.drop(['Unnamed: 0','Photo','Flag','Club Logo'],axis=1,inplace=True)\n",
        "df.head()"
      ]
    },
    {
      "cell_type": "code",
      "execution_count": null,
      "metadata": {
        "id": "4ctocG5-COF6"
      },
      "outputs": [],
      "source": [
        "# filling the missing value for the continous variables.\n",
        "\n",
        "df['ShortPassing'].fillna(df['ShortPassing'].mean(), inplace = True)\n",
        "df['Volleys'].fillna(df['Volleys'].mean(), inplace = True)\n",
        "df['Dribbling'].fillna(df['Dribbling'].mean(), inplace = True)\n",
        "df['Curve'].fillna(df['Curve'].mean(), inplace = True)\n",
        "df['FKAccuracy'].fillna(df['FKAccuracy'], inplace = True)\n",
        "df['LongPassing'].fillna(df['LongPassing'].mean(), inplace = True)\n",
        "df['BallControl'].fillna(df['BallControl'].mean(), inplace = True)\n",
        "df['HeadingAccuracy'].fillna(df['HeadingAccuracy'].mean(), inplace = True)\n",
        "df['Finishing'].fillna(df['Finishing'].mean(), inplace = True)\n",
        "df['Crossing'].fillna(df['Crossing'].mean(), inplace = True)\n",
        "df['Weight'].fillna('200lbs', inplace = True)\n",
        "df['Contract Valid Until'].fillna(2019, inplace = True)\n",
        "df['Height'].fillna(\"5'11\", inplace = True)\n",
        "df['Loaned From'].fillna('None', inplace = True)\n",
        "df['Joined'].fillna('Jul 1, 2018', inplace = True)\n",
        "df['Jersey Number'].fillna(8, inplace = True)\n",
        "df['Body Type'].fillna('Normal', inplace = True)\n",
        "df['Position'].fillna('ST', inplace = True)\n",
        "df['Club'].fillna('No Club', inplace = True)\n",
        "df['Work Rate'].fillna('Medium/ Medium', inplace = True)\n",
        "df['Skill Moves'].fillna(df['Skill Moves'].median(), inplace = True)\n",
        "df['Weak Foot'].fillna(3, inplace = True)\n",
        "df['Preferred Foot'].fillna('Right', inplace = True)\n",
        "df['International Reputation'].fillna(1, inplace = True)\n",
        "df['Wage'].fillna('€200K', inplace = True)"
      ]
    },
    {
      "cell_type": "code",
      "execution_count": null,
      "metadata": {
        "id": "c6nbJ00WCOF7"
      },
      "outputs": [],
      "source": [
        "df['Wage']= df['Wage'].str.strip('K')\n",
        "df['Wage']= df['Wage'].str.strip('€')\n",
        "df['Wage'] = df['Wage'].astype('float64')"
      ]
    },
    {
      "cell_type": "code",
      "execution_count": null,
      "metadata": {
        "id": "TMRGlYeBCOF7"
      },
      "outputs": [],
      "source": [
        "col = ['Age', 'Overall', 'Wage','Potential', 'Crossing', 'Finishing', 'HeadingAccuracy', 'ShortPassing', 'Volleys', 'Dribbling', 'Curve', 'FKAccuracy', 'LongPassing', 'BallControl', 'Acceleration', 'SprintSpeed', 'Agility', 'Reactions', 'Balance', 'ShotPower', 'Jumping' ,'Stamina', 'Strength', 'LongShots', 'Aggression', 'Interceptions', 'Positioning' ,'Vision', 'Penalties', 'Composure', 'Marking', 'StandingTackle', 'SlidingTackle', 'GKDiving', 'GKHandling', 'GKKicking', 'GKPositioning', 'GKReflexes']\n",
        "\n",
        "for x in col:\n",
        "    encode_numeric_range(df,x)"
      ]
    },
    {
      "cell_type": "code",
      "execution_count": null,
      "metadata": {
        "id": "qqkj7q-rCOF8",
        "outputId": "30cc5752-92c0-46e1-b04f-f15d5f5eff4d"
      },
      "outputs": [
        {
          "data": {
            "text/plain": [
              "array(['Albania', 'Algeria', 'Angola', 'Antigua & Barbuda', 'Argentina',\n",
              "       'Armenia', 'Australia', 'Austria', 'Belarus', 'Belgium', 'Benin',\n",
              "       'Bermuda', 'Bolivia', 'Bosnia Herzegovina', 'Brazil', 'Bulgaria',\n",
              "       'Burkina Faso', 'Burundi', 'Cameroon', 'Canada', 'Cape Verde',\n",
              "       'Central African Rep.', 'Chad', 'Chile', 'China PR', 'Colombia',\n",
              "       'Comoros', 'Congo', 'Costa Rica', 'Croatia', 'Cuba', 'Curacao',\n",
              "       'Cyprus', 'Czech Republic', 'DR Congo', 'Denmark',\n",
              "       'Dominican Republic', 'Ecuador', 'Egypt', 'El Salvador', 'England',\n",
              "       'Equatorial Guinea', 'Eritrea', 'Estonia', 'FYR Macedonia', 'Fiji',\n",
              "       'Finland', 'France', 'Gabon', 'Gambia', 'Georgia', 'Germany',\n",
              "       'Ghana', 'Greece', 'Guinea', 'Guinea Bissau', 'Haiti', 'Honduras',\n",
              "       'Hungary', 'Iceland', 'India', 'Iran', 'Iraq', 'Israel', 'Italy',\n",
              "       'Ivory Coast', 'Jamaica', 'Japan', 'Kazakhstan', 'Kenya',\n",
              "       'Korea DPR', 'Korea Republic', 'Kosovo', 'Kuwait', 'Latvia',\n",
              "       'Liberia', 'Libya', 'Liechtenstein', 'Lithuania', 'Luxembourg',\n",
              "       'Madagascar', 'Mali', 'Mexico', 'Moldova', 'Montenegro', 'Morocco',\n",
              "       'Mozambique', 'Namibia', 'Netherlands', 'New Caledonia',\n",
              "       'New Zealand', 'Niger', 'Nigeria', 'Northern Ireland', 'Norway',\n",
              "       'Panama', 'Paraguay', 'Peru', 'Philippines', 'Poland', 'Portugal',\n",
              "       'Republic of Ireland', 'Romania', 'Russia', 'Saudi Arabia',\n",
              "       'Scotland', 'Senegal', 'Serbia', 'Sierra Leone', 'Slovakia',\n",
              "       'Slovenia', 'South Africa', 'Spain', 'St Kitts Nevis', 'Suriname',\n",
              "       'Sweden', 'Switzerland', 'Syria', 'São Tomé & Príncipe',\n",
              "       'Tanzania', 'Togo', 'Trinidad & Tobago', 'Tunisia', 'Turkey',\n",
              "       'Uganda', 'Ukraine', 'United Arab Emirates', 'United States',\n",
              "       'Uruguay', 'Uzbekistan', 'Venezuela', 'Wales', 'Zambia',\n",
              "       'Zimbabwe'], dtype=object)"
            ]
          },
          "execution_count": 9,
          "metadata": {},
          "output_type": "execute_result"
        }
      ],
      "source": [
        "#Label encoding\n",
        "\n",
        "encode_text_index(df,'Preferred Foot')\n",
        "encode_text_index(df,'Body Type')\n",
        "encode_text_index(df,'Nationality')"
      ]
    },
    {
      "cell_type": "code",
      "execution_count": null,
      "metadata": {
        "id": "NpfBH7S-COF8",
        "outputId": "8717ea2c-0cab-4552-ed83-68555c0e612a"
      },
      "outputs": [
        {
          "data": {
            "text/plain": [
              "Index(['ID', 'Name', 'Age', 'Nationality', 'Overall', 'Potential', 'Club',\n",
              "       'Value', 'Wage', 'Special', 'Preferred Foot',\n",
              "       'International Reputation', 'Weak Foot', 'Skill Moves', 'Work Rate',\n",
              "       'Body Type', 'Real Face', 'Position', 'Jersey Number', 'Joined',\n",
              "       'Loaned From', 'Contract Valid Until', 'Height', 'Weight', 'LS', 'ST',\n",
              "       'RS', 'LW', 'LF', 'CF', 'RF', 'RW', 'LAM', 'CAM', 'RAM', 'LM', 'LCM',\n",
              "       'CM', 'RCM', 'RM', 'LWB', 'LDM', 'CDM', 'RDM', 'RWB', 'LB', 'LCB', 'CB',\n",
              "       'RCB', 'RB', 'Crossing', 'Finishing', 'HeadingAccuracy', 'ShortPassing',\n",
              "       'Volleys', 'Dribbling', 'Curve', 'FKAccuracy', 'LongPassing',\n",
              "       'BallControl', 'Acceleration', 'SprintSpeed', 'Agility', 'Reactions',\n",
              "       'Balance', 'ShotPower', 'Jumping', 'Stamina', 'Strength', 'LongShots',\n",
              "       'Aggression', 'Interceptions', 'Positioning', 'Vision', 'Penalties',\n",
              "       'Composure', 'Marking', 'StandingTackle', 'SlidingTackle', 'GKDiving',\n",
              "       'GKHandling', 'GKKicking', 'GKPositioning', 'GKReflexes',\n",
              "       'Release Clause'],\n",
              "      dtype='object')"
            ]
          },
          "execution_count": 10,
          "metadata": {},
          "output_type": "execute_result"
        }
      ],
      "source": [
        "df.columns"
      ]
    },
    {
      "cell_type": "code",
      "execution_count": null,
      "metadata": {
        "id": "2wQdyMCYCOF8"
      },
      "outputs": [],
      "source": [
        "df.dropna(inplace = True)"
      ]
    },
    {
      "cell_type": "code",
      "execution_count": null,
      "metadata": {
        "id": "7l4f7Py2COF9"
      },
      "outputs": [],
      "source": [
        "col = ['Age','Overall', 'Potential','Crossing', 'Finishing', 'HeadingAccuracy', 'ShortPassing', 'Volleys', 'Dribbling', 'Curve', 'FKAccuracy', 'LongPassing', 'BallControl', 'Acceleration', 'SprintSpeed', 'Agility', 'Reactions', 'Balance', 'ShotPower', 'Jumping' ,'Stamina', 'Strength', 'LongShots', 'Aggression', 'Interceptions', 'Positioning' ,'Vision', 'Penalties', 'Composure', 'Marking', 'StandingTackle', 'SlidingTackle', 'GKDiving', 'GKHandling', 'GKKicking', 'GKPositioning', 'GKReflexes']\n",
        "\n",
        "for x in col:\n",
        "    remove_outliers(df,x,3)"
      ]
    },
    {
      "cell_type": "code",
      "execution_count": null,
      "metadata": {
        "id": "qHagPD3VCOF9"
      },
      "outputs": [],
      "source": [
        "df['Value']= df['Value'].str.strip('M')\n",
        "df['Value']= df['Value'].str.strip('€')\n"
      ]
    },
    {
      "cell_type": "code",
      "execution_count": null,
      "metadata": {
        "id": "FF9X_rDdCOF9",
        "outputId": "028c8d4c-fea9-4e41-dbac-9a8ea9ae40d2"
      },
      "outputs": [
        {
          "data": {
            "text/plain": [
              "ID                            int64\n",
              "Name                         object\n",
              "Age                         float64\n",
              "Nationality                   int64\n",
              "Overall                     float64\n",
              "Potential                   float64\n",
              "Club                         object\n",
              "Value                        object\n",
              "Wage                        float64\n",
              "Special                       int64\n",
              "Preferred Foot                int64\n",
              "International Reputation    float64\n",
              "Weak Foot                   float64\n",
              "Skill Moves                 float64\n",
              "Work Rate                    object\n",
              "Body Type                     int64\n",
              "Real Face                    object\n",
              "Position                     object\n",
              "Jersey Number               float64\n",
              "Joined                       object\n",
              "Loaned From                  object\n",
              "Contract Valid Until         object\n",
              "Height                       object\n",
              "Weight                       object\n",
              "LS                           object\n",
              "ST                           object\n",
              "RS                           object\n",
              "LW                           object\n",
              "LF                           object\n",
              "CF                           object\n",
              "                             ...   \n",
              "Dribbling                   float64\n",
              "Curve                       float64\n",
              "FKAccuracy                  float64\n",
              "LongPassing                 float64\n",
              "BallControl                 float64\n",
              "Acceleration                float64\n",
              "SprintSpeed                 float64\n",
              "Agility                     float64\n",
              "Reactions                   float64\n",
              "Balance                     float64\n",
              "ShotPower                   float64\n",
              "Jumping                     float64\n",
              "Stamina                     float64\n",
              "Strength                    float64\n",
              "LongShots                   float64\n",
              "Aggression                  float64\n",
              "Interceptions               float64\n",
              "Positioning                 float64\n",
              "Vision                      float64\n",
              "Penalties                   float64\n",
              "Composure                   float64\n",
              "Marking                     float64\n",
              "StandingTackle              float64\n",
              "SlidingTackle               float64\n",
              "GKDiving                    float64\n",
              "GKHandling                  float64\n",
              "GKKicking                   float64\n",
              "GKPositioning               float64\n",
              "GKReflexes                  float64\n",
              "Release Clause               object\n",
              "Length: 85, dtype: object"
            ]
          },
          "execution_count": 14,
          "metadata": {},
          "output_type": "execute_result"
        }
      ],
      "source": [
        "df.dtypes"
      ]
    },
    {
      "cell_type": "code",
      "execution_count": null,
      "metadata": {
        "id": "LARKTcCCCOF9",
        "outputId": "a15b575e-913b-4fff-9bbe-02132c4a0241"
      },
      "outputs": [
        {
          "data": {
            "text/html": [
              "<div>\n",
              "<style scoped>\n",
              "    .dataframe tbody tr th:only-of-type {\n",
              "        vertical-align: middle;\n",
              "    }\n",
              "\n",
              "    .dataframe tbody tr th {\n",
              "        vertical-align: top;\n",
              "    }\n",
              "\n",
              "    .dataframe thead th {\n",
              "        text-align: right;\n",
              "    }\n",
              "</style>\n",
              "<table border=\"1\" class=\"dataframe\">\n",
              "  <thead>\n",
              "    <tr style=\"text-align: right;\">\n",
              "      <th></th>\n",
              "      <th>ID</th>\n",
              "      <th>Name</th>\n",
              "      <th>Age</th>\n",
              "      <th>Nationality</th>\n",
              "      <th>Overall</th>\n",
              "      <th>Potential</th>\n",
              "      <th>Club</th>\n",
              "      <th>Value</th>\n",
              "      <th>Wage</th>\n",
              "      <th>Special</th>\n",
              "      <th>...</th>\n",
              "      <th>Composure</th>\n",
              "      <th>Marking</th>\n",
              "      <th>StandingTackle</th>\n",
              "      <th>SlidingTackle</th>\n",
              "      <th>GKDiving</th>\n",
              "      <th>GKHandling</th>\n",
              "      <th>GKKicking</th>\n",
              "      <th>GKPositioning</th>\n",
              "      <th>GKReflexes</th>\n",
              "      <th>Release Clause</th>\n",
              "    </tr>\n",
              "  </thead>\n",
              "  <tbody>\n",
              "    <tr>\n",
              "      <th>10856</th>\n",
              "      <td>236772</td>\n",
              "      <td>D. Szoboszlai</td>\n",
              "      <td>0.035714</td>\n",
              "      <td>58</td>\n",
              "      <td>0.369565</td>\n",
              "      <td>0.744681</td>\n",
              "      <td>FC Red Bull Salzburg</td>\n",
              "      <td>1.1</td>\n",
              "      <td>0.007080</td>\n",
              "      <td>1719</td>\n",
              "      <td>...</td>\n",
              "      <td>0.559140</td>\n",
              "      <td>0.264368</td>\n",
              "      <td>0.244186</td>\n",
              "      <td>0.202381</td>\n",
              "      <td>0.101124</td>\n",
              "      <td>0.098901</td>\n",
              "      <td>0.133333</td>\n",
              "      <td>0.101124</td>\n",
              "      <td>0.053763</td>\n",
              "      <td>€2.3M</td>\n",
              "    </tr>\n",
              "    <tr>\n",
              "      <th>10900</th>\n",
              "      <td>238319</td>\n",
              "      <td>T. Edwards</td>\n",
              "      <td>0.107143</td>\n",
              "      <td>40</td>\n",
              "      <td>0.369565</td>\n",
              "      <td>0.723404</td>\n",
              "      <td>Stoke City</td>\n",
              "      <td>1</td>\n",
              "      <td>0.007080</td>\n",
              "      <td>1686</td>\n",
              "      <td>...</td>\n",
              "      <td>0.612903</td>\n",
              "      <td>0.620690</td>\n",
              "      <td>0.616279</td>\n",
              "      <td>0.678571</td>\n",
              "      <td>0.101124</td>\n",
              "      <td>0.142857</td>\n",
              "      <td>0.133333</td>\n",
              "      <td>0.056180</td>\n",
              "      <td>0.064516</td>\n",
              "      <td>€2.6M</td>\n",
              "    </tr>\n",
              "    <tr>\n",
              "      <th>10922</th>\n",
              "      <td>234229</td>\n",
              "      <td>R. McCrorie</td>\n",
              "      <td>0.142857</td>\n",
              "      <td>105</td>\n",
              "      <td>0.369565</td>\n",
              "      <td>0.680851</td>\n",
              "      <td>Rangers FC</td>\n",
              "      <td>1.1</td>\n",
              "      <td>0.014159</td>\n",
              "      <td>1604</td>\n",
              "      <td>...</td>\n",
              "      <td>0.612903</td>\n",
              "      <td>0.632184</td>\n",
              "      <td>0.686047</td>\n",
              "      <td>0.678571</td>\n",
              "      <td>0.101124</td>\n",
              "      <td>0.043956</td>\n",
              "      <td>0.111111</td>\n",
              "      <td>0.101124</td>\n",
              "      <td>0.064516</td>\n",
              "      <td>€2.6M</td>\n",
              "    </tr>\n",
              "    <tr>\n",
              "      <th>11323</th>\n",
              "      <td>239948</td>\n",
              "      <td>S. Reyes</td>\n",
              "      <td>0.142857</td>\n",
              "      <td>82</td>\n",
              "      <td>0.347826</td>\n",
              "      <td>0.638298</td>\n",
              "      <td>Monarcas Morelia</td>\n",
              "      <td>1</td>\n",
              "      <td>0.003540</td>\n",
              "      <td>1508</td>\n",
              "      <td>...</td>\n",
              "      <td>0.548387</td>\n",
              "      <td>0.229885</td>\n",
              "      <td>0.244186</td>\n",
              "      <td>0.226190</td>\n",
              "      <td>0.123596</td>\n",
              "      <td>0.098901</td>\n",
              "      <td>0.155556</td>\n",
              "      <td>0.146067</td>\n",
              "      <td>0.096774</td>\n",
              "      <td>€2.3M</td>\n",
              "    </tr>\n",
              "    <tr>\n",
              "      <th>11457</th>\n",
              "      <td>241266</td>\n",
              "      <td>W. Geubbels</td>\n",
              "      <td>0.000000</td>\n",
              "      <td>47</td>\n",
              "      <td>0.347826</td>\n",
              "      <td>0.808511</td>\n",
              "      <td>AS Monaco</td>\n",
              "      <td>1</td>\n",
              "      <td>0.008850</td>\n",
              "      <td>1576</td>\n",
              "      <td>...</td>\n",
              "      <td>0.645161</td>\n",
              "      <td>0.229885</td>\n",
              "      <td>0.162791</td>\n",
              "      <td>0.142857</td>\n",
              "      <td>0.044944</td>\n",
              "      <td>0.131868</td>\n",
              "      <td>0.055556</td>\n",
              "      <td>0.157303</td>\n",
              "      <td>0.139785</td>\n",
              "      <td>€2.9M</td>\n",
              "    </tr>\n",
              "  </tbody>\n",
              "</table>\n",
              "<p>5 rows × 85 columns</p>\n",
              "</div>"
            ],
            "text/plain": [
              "           ID           Name       Age  Nationality   Overall  Potential  \\\n",
              "10856  236772  D. Szoboszlai  0.035714           58  0.369565   0.744681   \n",
              "10900  238319     T. Edwards  0.107143           40  0.369565   0.723404   \n",
              "10922  234229    R. McCrorie  0.142857          105  0.369565   0.680851   \n",
              "11323  239948       S. Reyes  0.142857           82  0.347826   0.638298   \n",
              "11457  241266    W. Geubbels  0.000000           47  0.347826   0.808511   \n",
              "\n",
              "                       Club Value      Wage  Special      ...        \\\n",
              "10856  FC Red Bull Salzburg   1.1  0.007080     1719      ...         \n",
              "10900            Stoke City     1  0.007080     1686      ...         \n",
              "10922            Rangers FC   1.1  0.014159     1604      ...         \n",
              "11323      Monarcas Morelia     1  0.003540     1508      ...         \n",
              "11457             AS Monaco     1  0.008850     1576      ...         \n",
              "\n",
              "       Composure   Marking  StandingTackle  SlidingTackle  GKDiving  \\\n",
              "10856   0.559140  0.264368        0.244186       0.202381  0.101124   \n",
              "10900   0.612903  0.620690        0.616279       0.678571  0.101124   \n",
              "10922   0.612903  0.632184        0.686047       0.678571  0.101124   \n",
              "11323   0.548387  0.229885        0.244186       0.226190  0.123596   \n",
              "11457   0.645161  0.229885        0.162791       0.142857  0.044944   \n",
              "\n",
              "       GKHandling GKKicking GKPositioning  GKReflexes Release Clause  \n",
              "10856    0.098901  0.133333      0.101124    0.053763          €2.3M  \n",
              "10900    0.142857  0.133333      0.056180    0.064516          €2.6M  \n",
              "10922    0.043956  0.111111      0.101124    0.064516          €2.6M  \n",
              "11323    0.098901  0.155556      0.146067    0.096774          €2.3M  \n",
              "11457    0.131868  0.055556      0.157303    0.139785          €2.9M  \n",
              "\n",
              "[5 rows x 85 columns]"
            ]
          },
          "execution_count": 15,
          "metadata": {},
          "output_type": "execute_result"
        }
      ],
      "source": [
        "df.tail()"
      ]
    },
    {
      "cell_type": "code",
      "execution_count": null,
      "metadata": {
        "id": "XeVaLn_kCOF9"
      },
      "outputs": [],
      "source": [
        "df_x = df[['Age','Overall','Potential', 'Crossing', 'Finishing', 'HeadingAccuracy', 'ShortPassing', 'Volleys', 'Dribbling', 'Curve', 'FKAccuracy', 'LongPassing', 'BallControl', 'Acceleration', 'SprintSpeed', 'Agility', 'Reactions', 'Balance', 'ShotPower', 'Jumping' ,'Stamina', 'Strength', 'LongShots', 'Aggression', 'Nationality','Wage','Interceptions', 'Positioning' ,'Vision', 'Penalties', 'Composure', 'Marking', 'StandingTackle', 'SlidingTackle', 'GKDiving', 'GKHandling', 'GKKicking', 'GKPositioning', 'GKReflexes', 'Preferred Foot', 'Body Type']].copy()"
      ]
    },
    {
      "cell_type": "code",
      "execution_count": null,
      "metadata": {
        "id": "CpK76FxMCOF-",
        "outputId": "a6d4f2eb-8f32-4465-9fa3-491921112098",
        "scrolled": true
      },
      "outputs": [
        {
          "data": {
            "text/plain": [
              "80       50.0\n",
              "82       40.5\n",
              "84       40.5\n",
              "85       38.0\n",
              "86       45.0\n",
              "87       45.0\n",
              "89       28.5\n",
              "90       37.0\n",
              "93       37.5\n",
              "95       30.0\n",
              "96       26.0\n",
              "97       37.5\n",
              "98       30.5\n",
              "99       33.0\n",
              "100      38.5\n",
              "101      35.5\n",
              "102       9.0\n",
              "103      26.0\n",
              "104      15.5\n",
              "105      37.0\n",
              "106      21.5\n",
              "107      22.0\n",
              "108       9.0\n",
              "110      34.0\n",
              "112      32.0\n",
              "113      34.0\n",
              "114      40.5\n",
              "118      34.0\n",
              "119      35.5\n",
              "120      31.5\n",
              "         ... \n",
              "10083     1.0\n",
              "10087     1.1\n",
              "10155     1.0\n",
              "10172     1.2\n",
              "10178     1.2\n",
              "10200     1.0\n",
              "10238     1.1\n",
              "10240     1.1\n",
              "10315     1.0\n",
              "10343     1.1\n",
              "10352     1.1\n",
              "10361     1.1\n",
              "10457     1.0\n",
              "10461     1.2\n",
              "10479     1.2\n",
              "10501     1.1\n",
              "10523     1.1\n",
              "10526     1.0\n",
              "10557     1.2\n",
              "10567     1.2\n",
              "10620     1.1\n",
              "10752     1.2\n",
              "10801     1.1\n",
              "10836     1.2\n",
              "10841     1.2\n",
              "10856     1.1\n",
              "10900     1.0\n",
              "10922     1.1\n",
              "11323     1.0\n",
              "11457     1.0\n",
              "Name: Value, Length: 4876, dtype: float64"
            ]
          },
          "execution_count": 17,
          "metadata": {},
          "output_type": "execute_result"
        }
      ],
      "source": [
        "df_y = df['Value'].copy()\n",
        "df_y.astype('float64')"
      ]
    },
    {
      "cell_type": "code",
      "execution_count": null,
      "metadata": {
        "id": "PB0u7J4BCOF-",
        "outputId": "3196b044-cb08-4a65-8088-06b963146ee7"
      },
      "outputs": [
        {
          "data": {
            "text/plain": [
              "False"
            ]
          },
          "execution_count": 18,
          "metadata": {},
          "output_type": "execute_result"
        }
      ],
      "source": [
        "df_x.isnull().values.any()\n",
        "\n"
      ]
    },
    {
      "cell_type": "code",
      "execution_count": null,
      "metadata": {
        "id": "gXcwSM0WCOF-"
      },
      "outputs": [],
      "source": [
        "X = np.array(df_x)"
      ]
    },
    {
      "cell_type": "code",
      "execution_count": null,
      "metadata": {
        "id": "NM2agEBjCOF-"
      },
      "outputs": [],
      "source": [
        "Y = np.array(df_y)"
      ]
    },
    {
      "cell_type": "code",
      "execution_count": null,
      "metadata": {
        "id": "Vga30ZprCOF-"
      },
      "outputs": [],
      "source": [
        "X_train, X_test, Y_train, Y_test = train_test_split(X, Y, test_size=0.2, random_state=1 )"
      ]
    },
    {
      "cell_type": "code",
      "execution_count": null,
      "metadata": {
        "id": "OCfv66OJCOF-",
        "outputId": "8aadeb63-56e6-43a9-c161-03b733fa9761"
      },
      "outputs": [
        {
          "name": "stdout",
          "output_type": "stream",
          "text": [
            "--------------------------------------------------\n",
            "MODEL: Linear Regression\n",
            "--------------------------------------------------\n",
            "Actual values:\n",
            "['1.4' '8' '5.5' '6.5' '1' '2.4' '1.5' '3.4' '2.4']\n",
            "Predicted values:\n",
            "[ 2.26560693 13.53921301  6.77351927  7.48412607 -1.15617165  1.1750294\n",
            "  2.26290932  5.84962154  1.35286005]\n",
            "RMSE Score for Linear Regression: 2.132842772609482\n"
          ]
        }
      ],
      "source": [
        "#Linear Regression\n",
        "from sklearn.metrics import mean_squared_error, r2_score\n",
        "from sklearn import  linear_model\n",
        "\n",
        "lr = linear_model.LinearRegression()\n",
        "lr.fit(X_train,Y_train)\n",
        "lr_pred = lr.predict(X_test)\n",
        "\n",
        "print ('--------------------------------------------------')\n",
        "print ('MODEL: Linear Regression')\n",
        "print ('--------------------------------------------------')\n",
        "\n",
        "\n",
        "print('Actual values:')\n",
        "print(Y_test[0:9])\n",
        "print('Predicted values:')\n",
        "print(lr_pred[0:9])\n",
        "\n",
        "lr_mse  = mean_squared_error(lr_pred, Y_test)\n",
        "lr_rmse = np.sqrt(lr_mse)\n",
        "print('RMSE Score for Linear Regression:', lr_rmse)"
      ]
    },
    {
      "cell_type": "code",
      "execution_count": null,
      "metadata": {
        "id": "evoxTsNXCOF_",
        "outputId": "5c2368c7-d925-49b1-991e-8e51cc78cee0"
      },
      "outputs": [
        {
          "name": "stdout",
          "output_type": "stream",
          "text": [
            "--------------------------------------------------\n",
            "MODEL: Ridge\n",
            "--------------------------------------------------\n",
            "Actual values:\n",
            "['1.4' '8' '5.5' '6.5' '1' '2.4' '1.5' '3.4' '2.4']\n",
            "Predicted values:\n",
            "[ 2.2605936  13.54420442  6.77559208  7.48312509 -1.15072305  1.17880496\n",
            "  2.26274962  5.85012653  1.35430619]\n",
            "RMSE Score for Ridge: 2.132786908843801\n"
          ]
        }
      ],
      "source": [
        "ri = Ridge(alpha=0.01, normalize=False).fit(X_train,Y_train)\n",
        "ri_pred = ri.predict(X_test)\n",
        "ri_mse  = mean_squared_error(ri_pred, Y_test)\n",
        "ri_rmse = np.sqrt(ri_mse)\n",
        "\n",
        "print ('--------------------------------------------------')\n",
        "print ('MODEL: Ridge')\n",
        "print ('--------------------------------------------------')\n",
        "print('Actual values:')\n",
        "print(Y_test[0:9])\n",
        "print('Predicted values:')\n",
        "print(ri_pred[0:9])\n",
        "print('RMSE Score for Ridge:',ri_rmse)\n",
        "\n",
        "\n"
      ]
    },
    {
      "cell_type": "code",
      "execution_count": null,
      "metadata": {
        "id": "vlZC2W_qCOF_",
        "outputId": "698d4372-d960-426e-80b6-6a145d3a4ae7"
      },
      "outputs": [
        {
          "name": "stdout",
          "output_type": "stream",
          "text": [
            "--------------------------------------------------\n",
            "MODEL: RidgeCV\n",
            "--------------------------------------------------\n",
            "Actual values:\n",
            "['1.4' '8' '5.5' '6.5' '1' '2.4' '1.5' '3.4' '2.4']\n",
            "Predicted values:\n",
            "[ 2.21694857 13.58728777  6.7933785   7.47516326 -1.10383923  1.21231204\n",
            "  2.26158856  5.85400108  1.36732777]\n",
            "RMSE Score for RidgeCV: 2.1328646944445198\n"
          ]
        }
      ],
      "source": [
        "ricv = RidgeCV(cv=5).fit(X_train,Y_train)\n",
        "ricv_pred = ricv.predict(X_test)\n",
        "ricv_mse  = mean_squared_error(ricv_pred, Y_test)\n",
        "ricv_rmse = np.sqrt(ricv_mse)\n",
        "\n",
        "print ('--------------------------------------------------')\n",
        "print ('MODEL: RidgeCV')\n",
        "print ('--------------------------------------------------')\n",
        "print('Actual values:')\n",
        "print(Y_test[0:9])\n",
        "print('Predicted values:')\n",
        "print(ricv_pred[0:9])\n",
        "print('RMSE Score for RidgeCV:',ricv_rmse)\n"
      ]
    },
    {
      "cell_type": "code",
      "execution_count": null,
      "metadata": {
        "id": "yU-8Fp-_COF_",
        "outputId": "81660d3e-8f7e-4707-d4d4-fb20ad57c39d"
      },
      "outputs": [
        {
          "name": "stdout",
          "output_type": "stream",
          "text": [
            "--------------------------------------------------\n",
            "MODEL: ElasticNet\n",
            "--------------------------------------------------\n",
            "Actual values:\n",
            "['1.4' '8' '5.5' '6.5' '1' '2.4' '1.5' '3.4' '2.4']\n",
            "Predicted values:\n",
            "[ 1.49542881 13.48004272  6.90013078  7.59579243  0.3503782   3.58503227\n",
            "  2.39411495  5.22196195  2.76687153]\n",
            "RMSE Score for ElasticNet: 2.7750444208644995\n"
          ]
        }
      ],
      "source": [
        "en = ElasticNet(alpha=0.005, l1_ratio=0.1).fit(X_train,Y_train)\n",
        "en_pred = en.predict(X_test)\n",
        "en_mse  = mean_squared_error(en_pred, Y_test)\n",
        "en_rmse = np.sqrt(en_mse)\n",
        "\n",
        "print ('--------------------------------------------------')\n",
        "print ('MODEL: ElasticNet')\n",
        "print ('--------------------------------------------------')\n",
        "print('Actual values:')\n",
        "print(Y_test[0:9])\n",
        "print('Predicted values:')\n",
        "print(en_pred[0:9])\n",
        "print('RMSE Score for ElasticNet:',en_rmse)\n",
        "\n"
      ]
    },
    {
      "cell_type": "code",
      "execution_count": null,
      "metadata": {
        "id": "m-YsNYQ4COF_",
        "outputId": "c7dba408-28bd-4535-de6a-8eb2afc0ecc5"
      },
      "outputs": [
        {
          "name": "stdout",
          "output_type": "stream",
          "text": [
            "--------------------------------------------------\n",
            "MODEL: Random Forest Regression\n",
            "--------------------------------------------------\n",
            "Actual values:\n",
            "['1.4' '8' '5.5' '6.5' '1' '2.4' '1.5' '3.4' '2.4']\n",
            "Predicted values:\n",
            "[ 2.32026252 15.07321179  2.32026252  7.16684017  2.32026252  2.32026252\n",
            "  2.32026252  2.32026252  2.32026252]\n",
            "RMSE Score for Random Forest Regression: 2.403798479357281\n"
          ]
        }
      ],
      "source": [
        "from sklearn.ensemble import RandomForestRegressor\n",
        "from sklearn.datasets import make_regression\n",
        "\n",
        "regr = RandomForestRegressor(max_depth=2, random_state=1, n_estimators=100)\n",
        "regr.fit(X,Y)\n",
        "regr_pred = regr.predict(X_test)\n",
        "regr_mse  = mean_squared_error(regr_pred, Y_test)\n",
        "regr_rmse = np.sqrt(regr_mse)\n",
        "\n",
        "print ('--------------------------------------------------')\n",
        "print ('MODEL: Random Forest Regression')\n",
        "print ('--------------------------------------------------')\n",
        "print('Actual values:')\n",
        "print(Y_test[0:9])\n",
        "print('Predicted values:')\n",
        "print(regr_pred[0:9])\n",
        "print('RMSE Score for Random Forest Regression:',regr_rmse)\n"
      ]
    },
    {
      "cell_type": "code",
      "execution_count": null,
      "metadata": {
        "id": "3xHPX9jTCOF_",
        "outputId": "413327a2-8dce-40fb-b743-af7334d0fe30"
      },
      "outputs": [
        {
          "name": "stdout",
          "output_type": "stream",
          "text": [
            "--------------------------------------------------\n",
            "MODEL: Lars Lasso Regression\n",
            "--------------------------------------------------\n",
            "Actual values:\n",
            "['1.4' '8' '5.5' '6.5' '1' '2.4' '1.5' '3.4' '2.4']\n",
            "Predicted values:\n",
            "[5.42325677 5.42325677 5.42325677 5.42325677 5.42325677 5.42325677\n",
            " 5.42325677 5.42325677 5.42325677]\n",
            "RMSE Score for Lars Lasso Regression: 6.199130539851531\n"
          ]
        }
      ],
      "source": [
        "lars = linear_model.LassoLars(alpha=.1)\n",
        "lars.fit(X,Y)\n",
        "lars_pred = lars.predict(X_test)\n",
        "lars_mse  = mean_squared_error(lars_pred, Y_test)\n",
        "lars_rmse = np.sqrt(lars_mse)\n",
        "\n",
        "print ('--------------------------------------------------')\n",
        "print ('MODEL: Lars Lasso Regression')\n",
        "print ('--------------------------------------------------')\n",
        "print('Actual values:')\n",
        "print(Y_test[0:9])\n",
        "print('Predicted values:')\n",
        "print(lars_pred[0:9])\n",
        "print('RMSE Score for Lars Lasso Regression:',lars_rmse)\n"
      ]
    },
    {
      "cell_type": "code",
      "execution_count": null,
      "metadata": {
        "id": "n__zMLTdCOGA"
      },
      "outputs": [],
      "source": []
    }
  ],
  "metadata": {
    "colab": {
      "collapsed_sections": [],
      "name": "FIFA _Dataset.ipynb",
      "provenance": []
    },
    "kernelspec": {
      "display_name": "Python 3",
      "language": "python",
      "name": "python3"
    },
    "language_info": {
      "codemirror_mode": {
        "name": "ipython",
        "version": 3
      },
      "file_extension": ".py",
      "mimetype": "text/x-python",
      "name": "python",
      "nbconvert_exporter": "python",
      "pygments_lexer": "ipython3",
      "version": "3.6.5"
    }
  },
  "nbformat": 4,
  "nbformat_minor": 0
}
